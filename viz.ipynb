{
 "cells": [
  {
   "cell_type": "markdown",
   "id": "6f25f21d",
   "metadata": {},
   "source": [
    "## Set-up"
   ]
  },
  {
   "cell_type": "code",
   "execution_count": null,
   "id": "aaae4640",
   "metadata": {},
   "outputs": [],
   "source": []
  },
  {
   "cell_type": "markdown",
   "id": "b588e35e",
   "metadata": {},
   "source": [
    "## GNN Visualization\n",
    "\n",
    "Visualize in pygraphistry the results of the predictive model in graph format, and feel free to ask for (limited) help on the community slack on the graphistry portions. "
   ]
  },
  {
   "cell_type": "code",
   "execution_count": null,
   "id": "0438703b",
   "metadata": {},
   "outputs": [],
   "source": []
  },
  {
   "cell_type": "markdown",
   "id": "b0f99b73",
   "metadata": {},
   "source": [
    "Visualize an embedding\n",
    "\n",
    "Depending on your choice above:\n",
    "- In a link prediction model, can you show before and after?\n",
    "- In a node prediction model, can you show which nodes are classified as what?\n",
    "- In a motif model, what are the top motifs?\n",
    "- In a graph classification model, what are the different graphs?"
   ]
  },
  {
   "cell_type": "code",
   "execution_count": null,
   "id": "b551ebfb",
   "metadata": {},
   "outputs": [],
   "source": []
  }
 ],
 "metadata": {
  "kernelspec": {
   "display_name": "Python 3 (ipykernel)",
   "language": "python",
   "name": "python3"
  },
  "language_info": {
   "codemirror_mode": {
    "name": "ipython",
    "version": 3
   },
   "file_extension": ".py",
   "mimetype": "text/x-python",
   "name": "python",
   "nbconvert_exporter": "python",
   "pygments_lexer": "ipython3",
   "version": "3.9.13"
  }
 },
 "nbformat": 4,
 "nbformat_minor": 5
}
