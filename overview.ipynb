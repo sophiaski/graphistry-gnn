{
 "cells": [
  {
   "cell_type": "markdown",
   "id": "67f17275",
   "metadata": {},
   "source": [
    "## Set-up"
   ]
  },
  {
   "cell_type": "markdown",
   "id": "049e191b",
   "metadata": {},
   "source": [
    "Install"
   ]
  },
  {
   "cell_type": "code",
   "execution_count": 22,
   "id": "eddb9019",
   "metadata": {
    "scrolled": true
   },
   "outputs": [
    {
     "name": "stdout",
     "output_type": "stream",
     "text": [
      "Downloading fraudulent-transactions-data.zip to data\n",
      "100%|███████████████████████████████████████▊| 177M/178M [00:13<00:00, 14.5MB/s]\n",
      "100%|████████████████████████████████████████| 178M/178M [00:13<00:00, 14.2MB/s]\n"
     ]
    }
   ],
   "source": [
    "# Update to requirements.txt\n",
    "# !pip install \n",
    "# !pip install kaggle\n",
    "# !kaggle datasets download -d chitwanmanchanda/fraudulent-transactions-data -p data --unzip"
   ]
  },
  {
   "cell_type": "markdown",
   "id": "8328a53f",
   "metadata": {},
   "source": [
    "Methods"
   ]
  },
  {
   "cell_type": "code",
   "execution_count": 48,
   "id": "e2e0e07f",
   "metadata": {},
   "outputs": [],
   "source": [
    "import pandas as pd\n",
    "import networkx as nx\n",
    "import graphistry\n",
    "import cudf\n",
    "import cugraph\n",
    "\n",
    "# Custom\n",
    "# from scripts.config import DATA_DIR"
   ]
  },
  {
   "cell_type": "code",
   "execution_count": null,
   "id": "1df0bcfc",
   "metadata": {},
   "outputs": [],
   "source": [
    "# Add cuda check"
   ]
  },
  {
   "cell_type": "markdown",
   "id": "b1733d33",
   "metadata": {},
   "source": [
    "### Data Wrangling and Featurization"
   ]
  },
  {
   "cell_type": "markdown",
   "id": "4ff4df84",
   "metadata": {},
   "source": [
    "Find a (raw) rich dataset in fraud/cybersecurity/recommendation/supply chain with some notion of events & entities (logs, orders / bill of materials, ..), pull it in, clean and load it. "
   ]
  },
  {
   "cell_type": "code",
   "execution_count": 45,
   "id": "1895b4b0",
   "metadata": {},
   "outputs": [
    {
     "data": {
      "text/html": [
       "<div>\n",
       "<style scoped>\n",
       "    .dataframe tbody tr th:only-of-type {\n",
       "        vertical-align: middle;\n",
       "    }\n",
       "\n",
       "    .dataframe tbody tr th {\n",
       "        vertical-align: top;\n",
       "    }\n",
       "\n",
       "    .dataframe thead th {\n",
       "        text-align: right;\n",
       "    }\n",
       "</style>\n",
       "<table border=\"1\" class=\"dataframe\">\n",
       "  <thead>\n",
       "    <tr style=\"text-align: right;\">\n",
       "      <th></th>\n",
       "      <th>step</th>\n",
       "      <th>type</th>\n",
       "      <th>amount</th>\n",
       "      <th>nameOrig</th>\n",
       "      <th>oldbalanceOrg</th>\n",
       "      <th>newbalanceOrig</th>\n",
       "      <th>nameDest</th>\n",
       "      <th>oldbalanceDest</th>\n",
       "      <th>newbalanceDest</th>\n",
       "      <th>isFraud</th>\n",
       "      <th>isFlaggedFraud</th>\n",
       "    </tr>\n",
       "  </thead>\n",
       "  <tbody>\n",
       "    <tr>\n",
       "      <th>0</th>\n",
       "      <td>1</td>\n",
       "      <td>PAYMENT</td>\n",
       "      <td>9839.64</td>\n",
       "      <td>C1231006815</td>\n",
       "      <td>170136.0</td>\n",
       "      <td>160296.36</td>\n",
       "      <td>M1979787155</td>\n",
       "      <td>0.0</td>\n",
       "      <td>0.0</td>\n",
       "      <td>0</td>\n",
       "      <td>0</td>\n",
       "    </tr>\n",
       "    <tr>\n",
       "      <th>1</th>\n",
       "      <td>1</td>\n",
       "      <td>PAYMENT</td>\n",
       "      <td>1864.28</td>\n",
       "      <td>C1666544295</td>\n",
       "      <td>21249.0</td>\n",
       "      <td>19384.72</td>\n",
       "      <td>M2044282225</td>\n",
       "      <td>0.0</td>\n",
       "      <td>0.0</td>\n",
       "      <td>0</td>\n",
       "      <td>0</td>\n",
       "    </tr>\n",
       "    <tr>\n",
       "      <th>2</th>\n",
       "      <td>1</td>\n",
       "      <td>TRANSFER</td>\n",
       "      <td>181.00</td>\n",
       "      <td>C1305486145</td>\n",
       "      <td>181.0</td>\n",
       "      <td>0.00</td>\n",
       "      <td>C553264065</td>\n",
       "      <td>0.0</td>\n",
       "      <td>0.0</td>\n",
       "      <td>1</td>\n",
       "      <td>0</td>\n",
       "    </tr>\n",
       "    <tr>\n",
       "      <th>3</th>\n",
       "      <td>1</td>\n",
       "      <td>CASH_OUT</td>\n",
       "      <td>181.00</td>\n",
       "      <td>C840083671</td>\n",
       "      <td>181.0</td>\n",
       "      <td>0.00</td>\n",
       "      <td>C38997010</td>\n",
       "      <td>21182.0</td>\n",
       "      <td>0.0</td>\n",
       "      <td>1</td>\n",
       "      <td>0</td>\n",
       "    </tr>\n",
       "    <tr>\n",
       "      <th>4</th>\n",
       "      <td>1</td>\n",
       "      <td>PAYMENT</td>\n",
       "      <td>11668.14</td>\n",
       "      <td>C2048537720</td>\n",
       "      <td>41554.0</td>\n",
       "      <td>29885.86</td>\n",
       "      <td>M1230701703</td>\n",
       "      <td>0.0</td>\n",
       "      <td>0.0</td>\n",
       "      <td>0</td>\n",
       "      <td>0</td>\n",
       "    </tr>\n",
       "  </tbody>\n",
       "</table>\n",
       "</div>"
      ],
      "text/plain": [
       "   step      type    amount     nameOrig  oldbalanceOrg  newbalanceOrig  \\\n",
       "0     1   PAYMENT   9839.64  C1231006815       170136.0       160296.36   \n",
       "1     1   PAYMENT   1864.28  C1666544295        21249.0        19384.72   \n",
       "2     1  TRANSFER    181.00  C1305486145          181.0            0.00   \n",
       "3     1  CASH_OUT    181.00   C840083671          181.0            0.00   \n",
       "4     1   PAYMENT  11668.14  C2048537720        41554.0        29885.86   \n",
       "\n",
       "      nameDest  oldbalanceDest  newbalanceDest  isFraud  isFlaggedFraud  \n",
       "0  M1979787155             0.0             0.0        0               0  \n",
       "1  M2044282225             0.0             0.0        0               0  \n",
       "2   C553264065             0.0             0.0        1               0  \n",
       "3    C38997010         21182.0             0.0        1               0  \n",
       "4  M1230701703             0.0             0.0        0               0  "
      ]
     },
     "execution_count": 45,
     "metadata": {},
     "output_type": "execute_result"
    }
   ],
   "source": [
    "fraud.head()"
   ]
  },
  {
   "cell_type": "code",
   "execution_count": 41,
   "id": "25e6b657",
   "metadata": {
    "scrolled": false
   },
   "outputs": [
    {
     "name": "stdout",
     "output_type": "stream",
     "text": [
      "CPU times: user 2.28 s, sys: 440 ms, total: 2.72 s\n",
      "Wall time: 2.71 s\n"
     ]
    }
   ],
   "source": [
    "%%time\n",
    "M = nx.MultiDiGraph()"
   ]
  },
  {
   "cell_type": "code",
   "execution_count": 42,
   "id": "16a1ee5e",
   "metadata": {},
   "outputs": [
    {
     "name": "stdout",
     "output_type": "stream",
     "text": [
      "Nodes: 0\n",
      "Edges: 0\n",
      "CPU times: user 104 µs, sys: 8 µs, total: 112 µs\n",
      "Wall time: 85.8 µs\n"
     ]
    }
   ],
   "source": [
    "%%time\n",
    "print(f\"Nodes: {M.number_of_nodes():,}\")\n",
    "print(f\"Edges: {M.number_of_edges():,}\")"
   ]
  },
  {
   "cell_type": "markdown",
   "id": "5b8f149b",
   "metadata": {},
   "source": [
    "What are good columns for features? Why?"
   ]
  },
  {
   "cell_type": "code",
   "execution_count": null,
   "id": "08d474c0",
   "metadata": {},
   "outputs": [],
   "source": []
  },
  {
   "cell_type": "markdown",
   "id": "5184226d",
   "metadata": {},
   "source": [
    "Perform feature engineering. Be ready to discuss data quality, insights, & challenges.\n",
    "\n",
    "What are possible insights?\n",
    "Is the dataset balanced?\n",
    "What distributions likely model the different columns?\n",
    "Is there a target(s)? Why are they important?\n",
    "Descriptive statistics?"
   ]
  },
  {
   "cell_type": "code",
   "execution_count": null,
   "id": "3c47ef7f",
   "metadata": {},
   "outputs": [],
   "source": []
  },
  {
   "cell_type": "markdown",
   "id": "d216916f",
   "metadata": {},
   "source": [
    "## GNN\n",
    "\n",
    "Turn the dataset into a GNN model - Popular ones include GCN, GAT, RGCN"
   ]
  },
  {
   "cell_type": "code",
   "execution_count": null,
   "id": "61d56ebb",
   "metadata": {},
   "outputs": [],
   "source": []
  },
  {
   "cell_type": "markdown",
   "id": "9b7d5f8e",
   "metadata": {},
   "source": [
    "Depending on the dataset, fit one (or more) of the following models:\n",
    "- Link Prediction\n",
    "- Node Prediction\n",
    "- Graph Classification\n",
    "- Motif Mining"
   ]
  },
  {
   "cell_type": "code",
   "execution_count": null,
   "id": "aebdcdab",
   "metadata": {},
   "outputs": [],
   "source": []
  },
  {
   "cell_type": "markdown",
   "id": "194016e3",
   "metadata": {},
   "source": [
    "How does the model perform? How would you improve it with more time?"
   ]
  },
  {
   "cell_type": "code",
   "execution_count": null,
   "id": "04b7e8fa",
   "metadata": {},
   "outputs": [],
   "source": []
  },
  {
   "cell_type": "markdown",
   "id": "1fe2bca6",
   "metadata": {},
   "source": [
    "#### GNN Visualization $\\rightarrow$ see `viz.ipynb` notebook"
   ]
  },
  {
   "cell_type": "markdown",
   "id": "68a7dbe3",
   "metadata": {},
   "source": [
    "## Extra credit"
   ]
  },
  {
   "cell_type": "markdown",
   "id": "fdfe3049",
   "metadata": {},
   "source": [
    "Can you wrap the above in basic MLOps? "
   ]
  },
  {
   "cell_type": "code",
   "execution_count": null,
   "id": "eaac2164",
   "metadata": {},
   "outputs": [],
   "source": []
  },
  {
   "cell_type": "markdown",
   "id": "537d0ef5",
   "metadata": {},
   "source": [
    "How about model explainability? "
   ]
  },
  {
   "cell_type": "code",
   "execution_count": null,
   "id": "a49ddfc5",
   "metadata": {},
   "outputs": [],
   "source": []
  }
 ],
 "metadata": {
  "kernelspec": {
   "display_name": "Python 3 (ipykernel)",
   "language": "python",
   "name": "python3"
  },
  "language_info": {
   "codemirror_mode": {
    "name": "ipython",
    "version": 3
   },
   "file_extension": ".py",
   "mimetype": "text/x-python",
   "name": "python",
   "nbconvert_exporter": "python",
   "pygments_lexer": "ipython3",
   "version": "3.9.13"
  }
 },
 "nbformat": 4,
 "nbformat_minor": 5
}
