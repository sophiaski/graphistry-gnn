{
 "cells": [
  {
   "cell_type": "markdown",
   "id": "67f17275",
   "metadata": {},
   "source": [
    "## Set-up"
   ]
  },
  {
   "cell_type": "code",
   "execution_count": null,
   "id": "eddb9019",
   "metadata": {},
   "outputs": [],
   "source": [
    "# !pip install "
   ]
  },
  {
   "cell_type": "markdown",
   "id": "b1733d33",
   "metadata": {},
   "source": [
    "### Data Wrangling and Featurization"
   ]
  },
  {
   "cell_type": "markdown",
   "id": "4ff4df84",
   "metadata": {},
   "source": [
    "Find a (raw) rich dataset in fraud/cybersecurity/recommendation/supply chain with some notion of events & entities (logs, orders / bill of materials, ..), pull it in, clean and load it. "
   ]
  },
  {
   "cell_type": "code",
   "execution_count": null,
   "id": "54e4f457",
   "metadata": {},
   "outputs": [],
   "source": []
  },
  {
   "cell_type": "markdown",
   "id": "5b8f149b",
   "metadata": {},
   "source": [
    "What are good columns for features? Why?"
   ]
  },
  {
   "cell_type": "code",
   "execution_count": null,
   "id": "08d474c0",
   "metadata": {},
   "outputs": [],
   "source": []
  },
  {
   "cell_type": "markdown",
   "id": "5184226d",
   "metadata": {},
   "source": [
    "Perform feature engineering. Be ready to discuss data quality, insights, & challenges.\n",
    "\n",
    "What are possible insights?\n",
    "Is the dataset balanced?\n",
    "What distributions likely model the different columns?\n",
    "Is there a target(s)? Why are they important?\n",
    "Descriptive statistics?"
   ]
  },
  {
   "cell_type": "code",
   "execution_count": null,
   "id": "3c47ef7f",
   "metadata": {},
   "outputs": [],
   "source": []
  },
  {
   "cell_type": "markdown",
   "id": "d216916f",
   "metadata": {},
   "source": [
    "## GNN\n",
    "\n",
    "Turn the dataset into a GNN model - Popular ones include GCN, GAT, RGCN"
   ]
  },
  {
   "cell_type": "code",
   "execution_count": null,
   "id": "61d56ebb",
   "metadata": {},
   "outputs": [],
   "source": []
  },
  {
   "cell_type": "markdown",
   "id": "9b7d5f8e",
   "metadata": {},
   "source": [
    "Depending on the dataset, fit one (or more) of the following models:\n",
    "- Link Prediction\n",
    "- Node Prediction\n",
    "- Graph Classification\n",
    "- Motif Mining"
   ]
  },
  {
   "cell_type": "code",
   "execution_count": null,
   "id": "aebdcdab",
   "metadata": {},
   "outputs": [],
   "source": []
  },
  {
   "cell_type": "markdown",
   "id": "194016e3",
   "metadata": {},
   "source": [
    "How does the model perform? How would you improve it with more time?"
   ]
  },
  {
   "cell_type": "code",
   "execution_count": null,
   "id": "04b7e8fa",
   "metadata": {},
   "outputs": [],
   "source": []
  },
  {
   "cell_type": "markdown",
   "id": "1fe2bca6",
   "metadata": {},
   "source": [
    "#### GNN Visualization $\\rightarrow$ see `viz.ipynb` notebook"
   ]
  },
  {
   "cell_type": "markdown",
   "id": "68a7dbe3",
   "metadata": {},
   "source": [
    "## Extra credit"
   ]
  },
  {
   "cell_type": "markdown",
   "id": "fdfe3049",
   "metadata": {},
   "source": [
    "Can you wrap the above in basic MLOps? "
   ]
  },
  {
   "cell_type": "code",
   "execution_count": null,
   "id": "eaac2164",
   "metadata": {},
   "outputs": [],
   "source": []
  },
  {
   "cell_type": "markdown",
   "id": "537d0ef5",
   "metadata": {},
   "source": [
    "How about model explainability? "
   ]
  },
  {
   "cell_type": "code",
   "execution_count": null,
   "id": "a49ddfc5",
   "metadata": {},
   "outputs": [],
   "source": []
  }
 ],
 "metadata": {
  "kernelspec": {
   "display_name": "Python 3 (ipykernel)",
   "language": "python",
   "name": "python3"
  },
  "language_info": {
   "codemirror_mode": {
    "name": "ipython",
    "version": 3
   },
   "file_extension": ".py",
   "mimetype": "text/x-python",
   "name": "python",
   "nbconvert_exporter": "python",
   "pygments_lexer": "ipython3",
   "version": "3.9.13"
  }
 },
 "nbformat": 4,
 "nbformat_minor": 5
}
