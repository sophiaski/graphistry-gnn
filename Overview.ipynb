{
 "cells": [
  {
   "cell_type": "markdown",
   "id": "67f17275",
   "metadata": {},
   "source": [
    "## Set-up"
   ]
  },
  {
   "cell_type": "code",
   "execution_count": null,
   "id": "eddb9019",
   "metadata": {},
   "outputs": [],
   "source": [
    "!pip install "
   ]
  },
  {
   "cell_type": "markdown",
   "id": "b1733d33",
   "metadata": {},
   "source": [
    "### Data Wrangling and Featurization"
   ]
  },
  {
   "cell_type": "markdown",
   "id": "4ff4df84",
   "metadata": {},
   "source": [
    "Find a (raw) rich dataset in fraud/cybersecurity/recommendation/supply chain with some notion of events & entities (logs, orders / bill of materials, ..), pull it in, clean and load it. "
   ]
  },
  {
   "cell_type": "code",
   "execution_count": null,
   "id": "54e4f457",
   "metadata": {},
   "outputs": [],
   "source": []
  },
  {
   "cell_type": "markdown",
   "id": "5b8f149b",
   "metadata": {},
   "source": [
    "What are good columns for features? Why?"
   ]
  },
  {
   "cell_type": "code",
   "execution_count": null,
   "id": "08d474c0",
   "metadata": {},
   "outputs": [],
   "source": []
  },
  {
   "cell_type": "markdown",
   "id": "5184226d",
   "metadata": {},
   "source": [
    "Perform feature engineering. Be ready to discuss data quality, insights, & challenges.\n",
    "\n",
    "What are possible insights?\n",
    "Is the dataset balanced?\n",
    "What distributions likely model the different columns?\n",
    "Is there a target(s)? Why are they important?\n",
    "Descriptive statistics?"
   ]
  },
  {
   "cell_type": "code",
   "execution_count": null,
   "id": "3c47ef7f",
   "metadata": {},
   "outputs": [],
   "source": []
  },
  {
   "cell_type": "markdown",
   "id": "d216916f",
   "metadata": {},
   "source": [
    "## GNN"
   ]
  }
 ],
 "metadata": {
  "kernelspec": {
   "display_name": "Python 3 (ipykernel)",
   "language": "python",
   "name": "python3"
  },
  "language_info": {
   "codemirror_mode": {
    "name": "ipython",
    "version": 3
   },
   "file_extension": ".py",
   "mimetype": "text/x-python",
   "name": "python",
   "nbconvert_exporter": "python",
   "pygments_lexer": "ipython3",
   "version": "3.9.13"
  }
 },
 "nbformat": 4,
 "nbformat_minor": 5
}
